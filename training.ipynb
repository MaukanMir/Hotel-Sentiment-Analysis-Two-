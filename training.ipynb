{
 "cells": [
  {
   "cell_type": "markdown",
   "metadata": {},
   "source": [
    "# Hotel-Sentiment-Analysis-Two"
   ]
  },
  {
   "cell_type": "markdown",
   "metadata": {},
   "source": [
    "# Imports"
   ]
  },
  {
   "cell_type": "code",
   "execution_count": 35,
   "metadata": {},
   "outputs": [],
   "source": [
    "import pandas as pd\n",
    "import numpy as np\n",
    "import matplotlib.pyplot as plt\n",
    "import seaborn as sns\n",
    "import re\n",
    "\n",
    "from nltk.tokenize import word_tokenize\n",
    "\n",
    "from sklearn.feature_extraction.text import ENGLISH_STOP_WORDS, TfidfVectorizer\n",
    "from sklearn.preprocessing import StandardScaler, PowerTransformer\n",
    "from sklearn.pipeline import Pipeline\n",
    "from sklearn.ensemble import RandomForestClassifier, GradientBoostingClassifier\n",
    "from sklearn.tree import DecisionTreeClassifier\n",
    "from sklearn.svm import SVC\n",
    "from sklearn.linear_model import LogisticRegression\n",
    "from sklearn.dummy import DummyClassifier\n",
    "from sklearn.neighbors import KNeighborsClassifier\n",
    "from xgboost import XGBClassifier\n",
    "\n",
    "from sklearn.model_selection import RepeatedStratifiedKFold, cross_val_score\n",
    "from sklearn.metrics import f1_score, accuracy_score, make_scorer, confusion_matrix"
   ]
  },
  {
   "cell_type": "markdown",
   "metadata": {},
   "source": [
    "# Functions"
   ]
  },
  {
   "cell_type": "code",
   "execution_count": 34,
   "metadata": {},
   "outputs": [],
   "source": [
    "def check_null_dupes(df):\n",
    "  print(f\"The amount of Nulls: {df.isna().sum()}\")\n",
    "  print(f\"The amount of dupes: {df.duplicated().sum()}\")\n",
    "\n",
    "def check_class_imbalance(target):\n",
    "  \n",
    "  unique, counts = np.unique(target, return_counts=True)\n",
    "  plt.figure(figsize=(10, 7))\n",
    "  plt.pie(counts, labels=unique, autopct=\"%1.1f%%\", startangle=140)\n",
    "  plt.legend(unique)\n",
    "  plt.show()\n",
    "  \n",
    "  plt.figure(figsize=(10, 7))\n",
    "  sns.countplot(x=target)\n",
    "  plt.xlabel(\"Target Class Breakdown\")\n",
    "  plt.ylabel(\"Counts\")\n",
    "  plt.xticks(rotation=45)\n",
    "  plt.show()\n",
    "\n",
    "def plot_model_performance(df,y, axis):\n",
    "  fig, ax = plt.subplots(figsize=(15,8))\n",
    "  df.plot.bar(x=\"model\", y=y, ax=ax)\n",
    "  ax.set_xlabel(\"Models\")\n",
    "  ax.set_ylabel(axis)\n",
    "  ax.grid(True)\n",
    "  plt.xticks(rotation=45)\n",
    "  plt.show()\n",
    "\n",
    "def remove_stop_words(content):\n",
    "  word_tokens = \" \".join(word_tokenize(content))\n",
    "  filtered_word_tokens = re.sub(r\"[^a-zA-Z\\s]\", \"\", word_tokens).split()\n",
    "  filtered_sentence = [w.lower().strip() for w in filtered_word_tokens if not w.lower() in ENGLISH_STOP_WORDS]\n",
    "  return \" \".join(filtered_sentence).strip()\n",
    "\n",
    "def evaluate_model(X, y , model):\n",
    "  \n",
    "  cv = RepeatedStratifiedKFold(n_repeats=10, n_splits=10, random_state=1)\n",
    "  scoring_metric = make_scorer(f1_score)\n",
    "  scores = cross_val_score(model, X, y, scoring=scoring_metric, cv=cv, n_jobs=-1)\n",
    "  mean, var, std = round(np.mean(scores),3), round(np.var(scores),3), round(np.std(scores),3)\n",
    "  return mean, var, std\n",
    "\n",
    "def grab_selected_models(model_names):\n",
    "  models = {\n",
    "    \"LR\": LogisticRegression(max_iter=2000),\n",
    "    \"SVC\": SVC(),\n",
    "    \"KNN\":KNeighborsClassifier(),\n",
    "    \"DTC\": DecisionTreeClassifier(),\n",
    "    \"RFC\": RandomForestClassifier(),\n",
    "    \"GBC\": GradientBoostingClassifier(),\n",
    "    \"XGB\": XGBClassifier()\n",
    "  }\n",
    "  \n",
    "  return [models[model] for model in model_names]\n",
    "\n",
    "\n",
    "def tested_selected_models(model_names, models, X, y):\n",
    "  \n",
    "  model_performance = []\n",
    "  \n",
    "  for i in range(len(model_names)):\n",
    "    model, model_name = models[i], model_names[i]\n",
    "    mean, var, std = evaluate_model(X, y, model)\n",
    "    model_performance.append({\n",
    "      \"Model\":model_name,\n",
    "      \"Mean\": mean,\n",
    "      \"VAR\":var,\n",
    "      \"STD\": std\n",
    "    })\n",
    "  \n",
    "  model_performance_df = pd.DataFrame(model_performance).sort_values(by=\"Mean\", ascending=False).reset_index()\n",
    "  plot_model_performance(model_performance_df, [\"Mean\", \"STD\", \"VAR\"], \"Mean\")\n",
    "  print(model_performance_df)"
   ]
  },
  {
   "cell_type": "markdown",
   "metadata": {},
   "source": [
    "# EDA Analysis"
   ]
  },
  {
   "cell_type": "code",
   "execution_count": 2,
   "metadata": {},
   "outputs": [
    {
     "data": {
      "text/html": [
       "<div>\n",
       "<style scoped>\n",
       "    .dataframe tbody tr th:only-of-type {\n",
       "        vertical-align: middle;\n",
       "    }\n",
       "\n",
       "    .dataframe tbody tr th {\n",
       "        vertical-align: top;\n",
       "    }\n",
       "\n",
       "    .dataframe thead th {\n",
       "        text-align: right;\n",
       "    }\n",
       "</style>\n",
       "<table border=\"1\" class=\"dataframe\">\n",
       "  <thead>\n",
       "    <tr style=\"text-align: right;\">\n",
       "      <th></th>\n",
       "      <th>Unnamed: 0</th>\n",
       "      <th>content</th>\n",
       "      <th>translated_content</th>\n",
       "      <th>priority_score</th>\n",
       "      <th>problem_domain</th>\n",
       "    </tr>\n",
       "  </thead>\n",
       "  <tbody>\n",
       "    <tr>\n",
       "      <th>0</th>\n",
       "      <td>1</td>\n",
       "      <td>Sorry, including the expensive price + apk usi...</td>\n",
       "      <td>Sorry, including the expensive price + apk usi...</td>\n",
       "      <td>2</td>\n",
       "      <td>0</td>\n",
       "    </tr>\n",
       "    <tr>\n",
       "      <th>1</th>\n",
       "      <td>2</td>\n",
       "      <td>Setelah install terus pas buka aplikasi ngebla...</td>\n",
       "      <td>After installed, the app stuck with white display</td>\n",
       "      <td>3</td>\n",
       "      <td>1</td>\n",
       "    </tr>\n",
       "    <tr>\n",
       "      <th>2</th>\n",
       "      <td>3</td>\n",
       "      <td>gak bisa submit pada saat verifikasi data, pad...</td>\n",
       "      <td>Cannot submit the data verification, even my i...</td>\n",
       "      <td>3</td>\n",
       "      <td>1</td>\n",
       "    </tr>\n",
       "    <tr>\n",
       "      <th>3</th>\n",
       "      <td>4</td>\n",
       "      <td>Aplilasi restart mulu</td>\n",
       "      <td>The app keep restarting</td>\n",
       "      <td>3</td>\n",
       "      <td>1</td>\n",
       "    </tr>\n",
       "    <tr>\n",
       "      <th>4</th>\n",
       "      <td>5</td>\n",
       "      <td>udah mahal , makanan ga enak, banyak lalat</td>\n",
       "      <td>Overpriced, bad food, too many flies</td>\n",
       "      <td>2</td>\n",
       "      <td>0</td>\n",
       "    </tr>\n",
       "    <tr>\n",
       "      <th>...</th>\n",
       "      <td>...</td>\n",
       "      <td>...</td>\n",
       "      <td>...</td>\n",
       "      <td>...</td>\n",
       "      <td>...</td>\n",
       "    </tr>\n",
       "    <tr>\n",
       "      <th>695</th>\n",
       "      <td>696</td>\n",
       "      <td>Mohon yang bersihin kamar mandi laki2 khusus l...</td>\n",
       "      <td>Please clean the men's bathrooms specifically ...</td>\n",
       "      <td>2</td>\n",
       "      <td>0</td>\n",
       "    </tr>\n",
       "    <tr>\n",
       "      <th>696</th>\n",
       "      <td>697</td>\n",
       "      <td>Kurang kedap suara. Kebangun gara2 pod sebelah...</td>\n",
       "      <td>Loading...</td>\n",
       "      <td>2</td>\n",
       "      <td>0</td>\n",
       "    </tr>\n",
       "    <tr>\n",
       "      <th>697</th>\n",
       "      <td>698</td>\n",
       "      <td>Would be nice if people could leave luggage af...</td>\n",
       "      <td>Would be nice if people could leave luggage af...</td>\n",
       "      <td>2</td>\n",
       "      <td>0</td>\n",
       "    </tr>\n",
       "    <tr>\n",
       "      <th>698</th>\n",
       "      <td>699</td>\n",
       "      <td>Matrasnya ternyata keras bgt\\nDiluar itu so fa...</td>\n",
       "      <td>The mattress turned out to be really hard\\nApa...</td>\n",
       "      <td>2</td>\n",
       "      <td>0</td>\n",
       "    </tr>\n",
       "    <tr>\n",
       "      <th>699</th>\n",
       "      <td>700</td>\n",
       "      <td>Toiletnya bau, tolong disediakan air mineral k...</td>\n",
       "      <td>Loading...</td>\n",
       "      <td>2</td>\n",
       "      <td>0</td>\n",
       "    </tr>\n",
       "  </tbody>\n",
       "</table>\n",
       "<p>700 rows × 5 columns</p>\n",
       "</div>"
      ],
      "text/plain": [
       "     Unnamed: 0                                            content  \\\n",
       "0             1  Sorry, including the expensive price + apk usi...   \n",
       "1             2  Setelah install terus pas buka aplikasi ngebla...   \n",
       "2             3  gak bisa submit pada saat verifikasi data, pad...   \n",
       "3             4                              Aplilasi restart mulu   \n",
       "4             5         udah mahal , makanan ga enak, banyak lalat   \n",
       "..          ...                                                ...   \n",
       "695         696  Mohon yang bersihin kamar mandi laki2 khusus l...   \n",
       "696         697  Kurang kedap suara. Kebangun gara2 pod sebelah...   \n",
       "697         698  Would be nice if people could leave luggage af...   \n",
       "698         699  Matrasnya ternyata keras bgt\\nDiluar itu so fa...   \n",
       "699         700  Toiletnya bau, tolong disediakan air mineral k...   \n",
       "\n",
       "                                    translated_content  priority_score  \\\n",
       "0    Sorry, including the expensive price + apk usi...               2   \n",
       "1    After installed, the app stuck with white display               3   \n",
       "2    Cannot submit the data verification, even my i...               3   \n",
       "3                              The app keep restarting               3   \n",
       "4                 Overpriced, bad food, too many flies               2   \n",
       "..                                                 ...             ...   \n",
       "695  Please clean the men's bathrooms specifically ...               2   \n",
       "696                                         Loading...               2   \n",
       "697  Would be nice if people could leave luggage af...               2   \n",
       "698  The mattress turned out to be really hard\\nApa...               2   \n",
       "699                                         Loading...               2   \n",
       "\n",
       "     problem_domain  \n",
       "0                 0  \n",
       "1                 1  \n",
       "2                 1  \n",
       "3                 1  \n",
       "4                 0  \n",
       "..              ...  \n",
       "695               0  \n",
       "696               0  \n",
       "697               0  \n",
       "698               0  \n",
       "699               0  \n",
       "\n",
       "[700 rows x 5 columns]"
      ]
     },
     "execution_count": 2,
     "metadata": {},
     "output_type": "execute_result"
    }
   ],
   "source": [
    "df = pd.read_csv(\"/Users/maukanmir/Downloads/hotel.csv\")\n",
    "df"
   ]
  },
  {
   "cell_type": "markdown",
   "metadata": {},
   "source": [
    "# Check for Nulls And Dupes"
   ]
  },
  {
   "cell_type": "code",
   "execution_count": 4,
   "metadata": {},
   "outputs": [
    {
     "name": "stdout",
     "output_type": "stream",
     "text": [
      "The amount of Nulls: Unnamed: 0            0\n",
      "content               0\n",
      "translated_content    0\n",
      "priority_score        0\n",
      "problem_domain        0\n",
      "dtype: int64\n",
      "The amount of dupes: 0\n"
     ]
    }
   ],
   "source": [
    "check_null_dupes(df)"
   ]
  },
  {
   "cell_type": "markdown",
   "metadata": {},
   "source": [
    "# Check For Class Imbalance"
   ]
  },
  {
   "cell_type": "code",
   "execution_count": 6,
   "metadata": {},
   "outputs": [
    {
     "data": {
      "image/png": "[encoded data removed]",
      "text/plain": [
       "<Figure size 1000x700 with 1 Axes>"
      ]
     },
     "metadata": {},
     "output_type": "display_data"
    },
    {
     "data": {
      "image/png": "[encoded data removed]",
      "text/plain": [
       "<Figure size 1000x700 with 1 Axes>"
      ]
     },
     "metadata": {},
     "output_type": "display_data"
    }
   ],
   "source": [
    "check_class_imbalance(df[\"problem_domain\"])"
   ]
  },
  {
   "cell_type": "markdown",
   "metadata": {},
   "source": [
    "# Class Imbalance"
   ]
  },
  {
   "cell_type": "code",
   "execution_count": 12,
   "metadata": {},
   "outputs": [
    {
     "data": {
      "text/plain": [
       "1.6198535714195923"
      ]
     },
     "execution_count": 12,
     "metadata": {},
     "output_type": "execute_result"
    }
   ],
   "source": [
    "df[\"problem_domain\"].skew()"
   ]
  },
  {
   "cell_type": "markdown",
   "metadata": {},
   "source": [
    "# Drop uneeded columns"
   ]
  },
  {
   "cell_type": "code",
   "execution_count": 11,
   "metadata": {},
   "outputs": [],
   "source": [
    "df.drop([\"Unnamed: 0\", \"content\"], axis=1, inplace=True)"
   ]
  },
  {
   "cell_type": "code",
   "execution_count": 13,
   "metadata": {},
   "outputs": [],
   "source": [
    "df[\"len_review\"] = df[\"translated_content\"].apply(lambda x: len(x))\n",
    "df[\"len_wordcount\"] = df[\"translated_content\"].apply(lambda x: len(x.split()))"
   ]
  },
  {
   "cell_type": "code",
   "execution_count": 14,
   "metadata": {},
   "outputs": [
    {
     "data": {
      "text/html": [
       "<div>\n",
       "<style scoped>\n",
       "    .dataframe tbody tr th:only-of-type {\n",
       "        vertical-align: middle;\n",
       "    }\n",
       "\n",
       "    .dataframe tbody tr th {\n",
       "        vertical-align: top;\n",
       "    }\n",
       "\n",
       "    .dataframe thead th {\n",
       "        text-align: right;\n",
       "    }\n",
       "</style>\n",
       "<table border=\"1\" class=\"dataframe\">\n",
       "  <thead>\n",
       "    <tr style=\"text-align: right;\">\n",
       "      <th></th>\n",
       "      <th>priority_score</th>\n",
       "      <th>problem_domain</th>\n",
       "      <th>len_review</th>\n",
       "      <th>len_wordcount</th>\n",
       "    </tr>\n",
       "  </thead>\n",
       "  <tbody>\n",
       "    <tr>\n",
       "      <th>count</th>\n",
       "      <td>700.000000</td>\n",
       "      <td>700.000000</td>\n",
       "      <td>700.000000</td>\n",
       "      <td>700.000000</td>\n",
       "    </tr>\n",
       "    <tr>\n",
       "      <th>mean</th>\n",
       "      <td>2.184286</td>\n",
       "      <td>0.185714</td>\n",
       "      <td>85.847143</td>\n",
       "      <td>15.421429</td>\n",
       "    </tr>\n",
       "    <tr>\n",
       "      <th>std</th>\n",
       "      <td>0.757629</td>\n",
       "      <td>0.389154</td>\n",
       "      <td>144.241753</td>\n",
       "      <td>26.676805</td>\n",
       "    </tr>\n",
       "    <tr>\n",
       "      <th>min</th>\n",
       "      <td>1.000000</td>\n",
       "      <td>0.000000</td>\n",
       "      <td>2.000000</td>\n",
       "      <td>1.000000</td>\n",
       "    </tr>\n",
       "    <tr>\n",
       "      <th>25%</th>\n",
       "      <td>2.000000</td>\n",
       "      <td>0.000000</td>\n",
       "      <td>10.000000</td>\n",
       "      <td>1.000000</td>\n",
       "    </tr>\n",
       "    <tr>\n",
       "      <th>50%</th>\n",
       "      <td>2.000000</td>\n",
       "      <td>0.000000</td>\n",
       "      <td>27.000000</td>\n",
       "      <td>5.000000</td>\n",
       "    </tr>\n",
       "    <tr>\n",
       "      <th>75%</th>\n",
       "      <td>3.000000</td>\n",
       "      <td>0.000000</td>\n",
       "      <td>100.500000</td>\n",
       "      <td>19.000000</td>\n",
       "    </tr>\n",
       "    <tr>\n",
       "      <th>max</th>\n",
       "      <td>3.000000</td>\n",
       "      <td>1.000000</td>\n",
       "      <td>1381.000000</td>\n",
       "      <td>260.000000</td>\n",
       "    </tr>\n",
       "  </tbody>\n",
       "</table>\n",
       "</div>"
      ],
      "text/plain": [
       "       priority_score  problem_domain   len_review  len_wordcount\n",
       "count      700.000000      700.000000   700.000000     700.000000\n",
       "mean         2.184286        0.185714    85.847143      15.421429\n",
       "std          0.757629        0.389154   144.241753      26.676805\n",
       "min          1.000000        0.000000     2.000000       1.000000\n",
       "25%          2.000000        0.000000    10.000000       1.000000\n",
       "50%          2.000000        0.000000    27.000000       5.000000\n",
       "75%          3.000000        0.000000   100.500000      19.000000\n",
       "max          3.000000        1.000000  1381.000000     260.000000"
      ]
     },
     "execution_count": 14,
     "metadata": {},
     "output_type": "execute_result"
    }
   ],
   "source": [
    "df.describe()"
   ]
  },
  {
   "cell_type": "code",
   "execution_count": 15,
   "metadata": {},
   "outputs": [
    {
     "data": {
      "image/png": "[encoded data removed]",
      "text/plain": [
       "<Figure size 640x480 with 1 Axes>"
      ]
     },
     "metadata": {},
     "output_type": "display_data"
    }
   ],
   "source": [
    "grouped_df = df.groupby(\"problem_domain\")[\"len_review\"].sum().reset_index()\n",
    "\n",
    "sns.barplot(data=grouped_df, x='problem_domain', y=\"len_review\")\n",
    "plt.title(\"Distribution of content review\")\n",
    "plt.xlabel(\"Problem Domain\")\n",
    "plt.ylabel(\"Sum of Length\")\n",
    "plt.yscale(\"linear\")\n",
    "plt.show()"
   ]
  },
  {
   "cell_type": "code",
   "execution_count": 16,
   "metadata": {},
   "outputs": [
    {
     "data": {
      "image/png": "[encoded data removed]",
      "text/plain": [
       "<Figure size 640x480 with 1 Axes>"
      ]
     },
     "metadata": {},
     "output_type": "display_data"
    }
   ],
   "source": [
    "grouped_df = df.groupby(\"problem_domain\")[\"len_wordcount\"].sum().reset_index()\n",
    "\n",
    "sns.barplot(data=grouped_df, x='problem_domain', y=\"len_wordcount\")\n",
    "plt.title(\"Distribution of content review\")\n",
    "plt.xlabel(\"Problem Domain\")\n",
    "plt.ylabel(\"Sum of Length\")\n",
    "plt.yscale(\"linear\")\n",
    "plt.show()"
   ]
  },
  {
   "cell_type": "markdown",
   "metadata": {},
   "source": [
    "# Data Preprocessing"
   ]
  },
  {
   "cell_type": "code",
   "execution_count": 21,
   "metadata": {},
   "outputs": [],
   "source": [
    "df[\"translated_content\"] = df[\"translated_content\"].apply(remove_stop_words)"
   ]
  },
  {
   "cell_type": "markdown",
   "metadata": {},
   "source": [
    "# Separate Feature Variables"
   ]
  },
  {
   "cell_type": "code",
   "execution_count": 22,
   "metadata": {},
   "outputs": [],
   "source": [
    "X, y = df.drop(\"problem_domain\", axis=1), df[\"problem_domain\"]"
   ]
  },
  {
   "cell_type": "markdown",
   "metadata": {},
   "source": [
    "# Vectorize Text Data"
   ]
  },
  {
   "cell_type": "code",
   "execution_count": 27,
   "metadata": {},
   "outputs": [],
   "source": [
    "vectorizer = TfidfVectorizer()\n",
    "vector_df = pd.DataFrame(vectorizer.fit_transform(X[\"translated_content\"]).toarray())\n",
    "X.drop(\"translated_content\", axis=1, inplace=True)\n",
    "vector_df_features = vectorizer.get_feature_names_out()\n",
    "\n",
    "X = pd.concat([X, vector_df], axis=1)"
   ]
  },
  {
   "cell_type": "markdown",
   "metadata": {},
   "source": [
    "# Standardize Dataset"
   ]
  },
  {
   "cell_type": "code",
   "execution_count": 36,
   "metadata": {},
   "outputs": [
    {
     "name": "stderr",
     "output_type": "stream",
     "text": [
      "/Users/maukanmir/miniforge3/envs/machine-learning-env/lib/python3.9/site-packages/sklearn/utils/validation.py:1858: FutureWarning: Feature names only support names that are all strings. Got feature names with dtypes: ['int', 'str']. An error will be raised in 1.2.\n",
      "  warnings.warn(\n",
      "/Users/maukanmir/miniforge3/envs/machine-learning-env/lib/python3.9/site-packages/sklearn/utils/validation.py:1858: FutureWarning: Feature names only support names that are all strings. Got feature names with dtypes: ['int', 'str']. An error will be raised in 1.2.\n",
      "  warnings.warn(\n"
     ]
    }
   ],
   "source": [
    "steps = [\n",
    "  (\"Scaler\", StandardScaler()),\n",
    "  (\"Powertransformer\", PowerTransformer())\n",
    "]\n",
    "pipeline = Pipeline(steps=steps)\n",
    "X_processed = pipeline.fit_transform(X)"
   ]
  },
  {
   "cell_type": "markdown",
   "metadata": {},
   "source": [
    "# Baseline Model Evaluation"
   ]
  },
  {
   "cell_type": "code",
   "execution_count": 38,
   "metadata": {},
   "outputs": [
    {
     "name": "stdout",
     "output_type": "stream",
     "text": [
      "Mean F1 Score: 0.313, Var: 0.0, STD: 0.0\n"
     ]
    }
   ],
   "source": [
    "model = DummyClassifier(strategy=\"constant\", constant=1)\n",
    "mean, var, std  = evaluate_model(X_processed,y, model)\n",
    "\n",
    "print(f\"Mean F1 Score: {mean}, Var: {var}, STD: {std}\")"
   ]
  },
  {
   "cell_type": "markdown",
   "metadata": {},
   "source": [
    "# Advanced model metrics"
   ]
  },
  {
   "cell_type": "code",
   "execution_count": 39,
   "metadata": {},
   "outputs": [],
   "source": [
    "model_names = [\n",
    "  \"RFC\",\n",
    "  \"GBC\",\n",
    "  \"XGB\",\n",
    "  \"DTC\",\n",
    "  \"LR\",\n",
    "  \"SVC\",\n",
    "  \"KNN\"\n",
    "]\n",
    "models = grab_selected_models(model_names)\n",
    "\n",
    "tested_selected_models(model_names, models, X_processed, y)"
   ]
  },
  {
   "cell_type": "code",
   "execution_count": null,
   "metadata": {},
   "outputs": [],
   "source": []
  }
 ],
 "metadata": {
  "kernelspec": {
   "display_name": "machine-learning-env",
   "language": "python",
   "name": "python3"
  },
  "language_info": {
   "codemirror_mode": {
    "name": "ipython",
    "version": 3
   },
   "file_extension": ".py",
   "mimetype": "text/x-python",
   "name": "python",
   "nbconvert_exporter": "python",
   "pygments_lexer": "ipython3",
   "version": "3.9.19"
  }
 },
 "nbformat": 4,
 "nbformat_minor": 2
}
